{
 "cells": [
  {
   "cell_type": "markdown",
   "metadata": {},
   "source": [
    "1. Write a Python program to convert kilometers to miles?\n",
    "2. Write a Python program to convert Celsius to Fahrenheit?\n",
    "3. Write a Python program to display calendar?\n",
    "4. Write a Python program to solve quadratic equation?\n",
    "5. Write a Python program to swap two variables without temp variable?"
   ]
  },
  {
   "cell_type": "code",
   "execution_count": 5,
   "metadata": {},
   "outputs": [
    {
     "name": "stdout",
     "output_type": "stream",
     "text": [
      "enter number of kms: 1000\n",
      "621.5040397762585\n"
     ]
    }
   ],
   "source": [
    "## 1. Write a Python program to convert kilometers to miles?\n",
    "# 1mile = 1.609km\n",
    "km = float(input(\"enter number of kms: \"))\n",
    "miles = km/1.609\n",
    "print(miles)"
   ]
  },
  {
   "cell_type": "code",
   "execution_count": 3,
   "metadata": {},
   "outputs": [
    {
     "name": "stdout",
     "output_type": "stream",
     "text": [
      "enter temperature in celsius: 10\n",
      "37.55555555555556\n"
     ]
    }
   ],
   "source": [
    "## 2. Write a Python program to convert Celsius to Fahrenheit?\n",
    "celsius = float(input(\"enter temperature in celsius: \"))\n",
    "fahrenheit = celsius * (5/9)+32\n",
    "print(fahrenheit)"
   ]
  },
  {
   "cell_type": "code",
   "execution_count": 8,
   "metadata": {},
   "outputs": [
    {
     "name": "stdout",
     "output_type": "stream",
     "text": [
      "Enter a month in mm format: 04\n",
      "Enter a month in yyyy format: 2021\n",
      "     April 2021\n",
      "Mo Tu We Th Fr Sa Su\n",
      "          1  2  3  4\n",
      " 5  6  7  8  9 10 11\n",
      "12 13 14 15 16 17 18\n",
      "19 20 21 22 23 24 25\n",
      "26 27 28 29 30\n",
      "\n"
     ]
    }
   ],
   "source": [
    "## 3. Write a Python program to display calendar?\n",
    "import calendar\n",
    "month = int(input(\"Enter a month in mm format: \"))\n",
    "year = int(input(\"Enter a month in yyyy format: \"))\n",
    "calendar_display = calendar.month(year,month)\n",
    "print(calendar_display)"
   ]
  },
  {
   "cell_type": "code",
   "execution_count": 6,
   "metadata": {},
   "outputs": [
    {
     "name": "stdout",
     "output_type": "stream",
     "text": [
      "Enter a value of a: 5\n",
      "Enter a value of b: 4\n",
      "Enter a value of c: 6\n",
      "-2.0282409603651672e+30 -2.0282409603651672e+30\n"
     ]
    }
   ],
   "source": [
    "## 4. Write a Python program to solve quadratic equation?\n",
    "# quadratic equation is ax**2+b*x+c = 0 a!=0\n",
    "a = float(input(\"Enter a value of a: \"))\n",
    "b = float(input(\"Enter a value of b: \"))\n",
    "c = float(input(\"Enter a value of c: \"))\n",
    "\n",
    "#discriminant\n",
    "d1 = (-b-(0.5**((b**2)-(4*a*c))))/(2*a)\n",
    "d2 = (-b-(0.5**((b**2)-(4*a*c))))/(2*a)\n",
    "\n",
    "print(d1,d2)"
   ]
  },
  {
   "cell_type": "code",
   "execution_count": 9,
   "metadata": {},
   "outputs": [
    {
     "name": "stdout",
     "output_type": "stream",
     "text": [
      "Enter a value of a: 2\n",
      "Enter a value of b: 4\n",
      "value of a is 4.0\n",
      "value of b is 2.0\n"
     ]
    }
   ],
   "source": [
    "## 5. Write a Python program to swap two variables without temp variable?\n",
    "a = float(input(\"Enter a value of a: \"))\n",
    "b = float(input(\"Enter a value of b: \"))\n",
    "a = a+b\n",
    "b = a-b\n",
    "a = a-b\n",
    "print(\"value of a is {}\".format(a))\n",
    "print(\"value of b is {}\".format(b))"
   ]
  }
 ],
 "metadata": {
  "kernelspec": {
   "display_name": "Python 3",
   "language": "python",
   "name": "python3"
  }
 },
 "nbformat": 4,
 "nbformat_minor": 2
}
