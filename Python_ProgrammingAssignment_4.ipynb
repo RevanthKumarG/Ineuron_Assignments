{
 "cells": [
  {
   "cell_type": "markdown",
   "metadata": {},
   "source": [
    "1. Write a Python Program to Find the Factorial of a Number?\n",
    "2. Write a Python Program to Display the multiplication Table?\n",
    "3. Write a Python Program to Print the Fibonacci sequence?\n",
    "4. Write a Python Program to Check Armstrong Number?\n",
    "5. Write a Python Program to Find Armstrong Number in an Interval?\n",
    "6. Write a Python Program to Find the Sum of Natural Numbers?"
   ]
  },
  {
   "cell_type": "code",
   "execution_count": 1,
   "metadata": {},
   "outputs": [
    {
     "name": "stdout",
     "output_type": "stream",
     "text": [
      "enter a number: 5\n",
      "factorial of 5 id 120\n"
     ]
    }
   ],
   "source": [
    "## 1. Write a Python Program to Find the Factorial of a Number?\n",
    "number = int(input(\"enter a number: \"))\n",
    "fact = 1\n",
    "if number==1:\n",
    "    print(\"factorial of 1 is: \"+str(number))\n",
    "for num in range(2,number+1):\n",
    "    fact = fact*num\n",
    "print(\"factorial of {0} id {1}\".format(number,fact))    "
   ]
  },
  {
   "cell_type": "code",
   "execution_count": 6,
   "metadata": {},
   "outputs": [
    {
     "name": "stdout",
     "output_type": "stream",
     "text": [
      "enter a number: 5\n",
      "5 x 1 = 5\n",
      "5 x 2 = 10\n",
      "5 x 3 = 15\n",
      "5 x 4 = 20\n",
      "5 x 5 = 25\n",
      "5 x 6 = 30\n",
      "5 x 7 = 35\n",
      "5 x 8 = 40\n",
      "5 x 9 = 45\n",
      "5 x 10 = 50\n"
     ]
    }
   ],
   "source": [
    "## 2. Write a Python Program to Display the multiplication Table?\n",
    "number = int(input(\"enter a number: \"))\n",
    "product=1\n",
    "if number >=1:\n",
    "    for i in range(1,11):\n",
    "        product = number*i\n",
    "        print(number,\"x\",i,\"=\",product)"
   ]
  },
  {
   "cell_type": "code",
   "execution_count": 7,
   "metadata": {},
   "outputs": [
    {
     "name": "stdout",
     "output_type": "stream",
     "text": [
      "How many terms of Fibonacci sequence? 4\n",
      "Fibonacci sequence:\n",
      "0\n",
      "1\n",
      "1\n",
      "2\n"
     ]
    }
   ],
   "source": [
    "# 3. Write a Python Program to Print the Fibonacci sequence?\n",
    "no_of_terms = int(input(\"How many terms of Fibonacci sequence? \"))\n",
    "num1, num2 = 0, 1\n",
    "count = 0\n",
    "if no_of_terms <= 0:\n",
    "    print(\"Please enter a positive integer\")\n",
    "elif no_of_terms == 1:\n",
    "    print(\"Fibonacci sequence upto\",no_of_terms,\":\")\n",
    "    print(num1)\n",
    "else:\n",
    "    print(\"Fibonacci sequence:\")\n",
    "    while count < no_of_terms:\n",
    "        print(num1)\n",
    "        temp = num1 + num2\n",
    "        num1 = num2\n",
    "        num2 = temp\n",
    "        count += 1"
   ]
  },
  {
   "cell_type": "code",
   "execution_count": 9,
   "metadata": {},
   "outputs": [
    {
     "name": "stdout",
     "output_type": "stream",
     "text": [
      "Enter a number: 153\n",
      "15\n",
      "1\n",
      "0\n",
      "153 is an Armstrong number\n"
     ]
    }
   ],
   "source": [
    "# 4.Write a Python Program to Check Armstrong Number?\n",
    "num = int(input(\"Enter a number: \"))\n",
    "\n",
    "sum1 = 0\n",
    "\n",
    "temp = num\n",
    "while temp > 0:\n",
    "    digit = temp % 10\n",
    "    sum1 = sum1+digit ** 3\n",
    "    temp =temp//10\n",
    "    print(temp)\n",
    "\n",
    "if num == sum1:\n",
    "    print(num,\"is an Armstrong number\")\n",
    "else:\n",
    "    print(num,\"is not an Armstrong number\")\n"
   ]
  },
  {
   "cell_type": "code",
   "execution_count": 11,
   "metadata": {},
   "outputs": [
    {
     "name": "stdout",
     "output_type": "stream",
     "text": [
      "Enter lower range: 1\n",
      "Enter upper range: 154\n",
      "1\n",
      "64\n",
      "125\n",
      "153\n"
     ]
    }
   ],
   "source": [
    "# 5. Write a Python Program to Find Armstrong Number in an Interval?\n",
    "start = int(input(\"Enter lower range: \"))  \n",
    "end = int(input(\"Enter upper range: \"))  \n",
    "  \n",
    "for num in range(start,end+1):  \n",
    "    sum_ = 0  \n",
    "    temp = num  \n",
    "    while temp > 0:  \n",
    "        digit = temp % 10  \n",
    "        sum_ = sum_+digit ** 3  \n",
    "        temp =temp//10  \n",
    "        if num == sum_:\n",
    "            print(num)\n",
    "            "
   ]
  },
  {
   "cell_type": "code",
   "execution_count": 12,
   "metadata": {},
   "outputs": [
    {
     "name": "stdout",
     "output_type": "stream",
     "text": [
      "How many numbers? 5\n",
      "15\n"
     ]
    }
   ],
   "source": [
    "## 6. Write a Python Program to Find the Sum of Natural Numbers?\n",
    "n = int(input(\"How many numbers? \"))\n",
    "sum_n = 0 \n",
    "if n <=0:\n",
    "    print(\"please print a positive integer\")\n",
    "else:    \n",
    "    for num in range(1,n+1):\n",
    "        sum_n = sum_n+num\n",
    "    print(sum_n)"
   ]
  },
  {
   "cell_type": "code",
   "execution_count": null,
   "metadata": {},
   "outputs": [],
   "source": []
  }
 ],
 "metadata": {
  "kernelspec": {
   "display_name": "Python 3",
   "language": "python",
   "name": "python3"
  },
  "language_info": {
   "codemirror_mode": {
    "name": "ipython",
    "version": 3
   },
   "file_extension": ".py",
   "mimetype": "text/x-python",
   "name": "python",
   "nbconvert_exporter": "python",
   "pygments_lexer": "ipython3",
   "version": "3.6.5"
  }
 },
 "nbformat": 4,
 "nbformat_minor": 2
}
